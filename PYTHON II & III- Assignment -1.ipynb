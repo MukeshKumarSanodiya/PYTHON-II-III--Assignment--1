{
 "cells": [
  {
   "cell_type": "code",
   "execution_count": 2,
   "metadata": {},
   "outputs": [
    {
     "name": "stdout",
     "output_type": "stream",
     "text": [
      "Input some comma seprated numbers : 4,6,2,5,0\n",
      "List :  ['4', '6', '2', '5', '0']\n"
     ]
    }
   ],
   "source": [
    "#:-Mukesh Kumar Sanodiya\n",
    "#:-03-Dec-2018\n",
    "# Q1:- Write a program which accepts a sequence of comma-separated numbers from console and generate a list\n",
    "\n",
    "values = input(\"Input some comma seprated numbers : \")\n",
    "list = values.split(\",\")\n",
    "\n",
    "print('List : ',list)\n"
   ]
  },
  {
   "cell_type": "code",
   "execution_count": 4,
   "metadata": {},
   "outputs": [
    {
     "name": "stdout",
     "output_type": "stream",
     "text": [
      "*\n",
      "**\n",
      "***\n",
      "****\n",
      "*****\n",
      "****\n",
      "***\n",
      "**\n",
      "*\n",
      "\n"
     ]
    }
   ],
   "source": [
    "#:-Mukesh Kumar Sanodiya\n",
    "#:-03-Dec-2018\n",
    "# Q2:- Create the below pattern using nested for loop in Python.\n",
    "\n",
    "n=5\n",
    "for i in range(n):\n",
    "    print('*'*(i+1))\n",
    "for j in range(n):\n",
    "    print('*'*(n-1-j))\n"
   ]
  },
  {
   "cell_type": "code",
   "execution_count": 5,
   "metadata": {},
   "outputs": [
    {
     "name": "stdout",
     "output_type": "stream",
     "text": [
      "Enter the sentence you want to reverseAcadGild\n",
      "dliGdacA\n"
     ]
    }
   ],
   "source": [
    "#:-Mukesh Kumar Sanodiya\n",
    "#:-03-Dec-2018\n",
    "# Q3:- Write a Python program to reverse a word after accepting the input from the user.\n",
    "\n",
    "st=input(\"Enter the sentence you want to reverse\")\n",
    "st = st[::-1]\n",
    "print(st)\n",
    " "
   ]
  },
  {
   "cell_type": "code",
   "execution_count": null,
   "metadata": {},
   "outputs": [],
   "source": []
  }
 ],
 "metadata": {
  "kernelspec": {
   "display_name": "Python 3",
   "language": "python",
   "name": "python3"
  },
  "language_info": {
   "codemirror_mode": {
    "name": "ipython",
    "version": 3
   },
   "file_extension": ".py",
   "mimetype": "text/x-python",
   "name": "python",
   "nbconvert_exporter": "python",
   "pygments_lexer": "ipython3",
   "version": "3.7.0"
  }
 },
 "nbformat": 4,
 "nbformat_minor": 2
}
